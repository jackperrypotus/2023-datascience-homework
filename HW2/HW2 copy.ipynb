{
 "cells": [
  {
   "cell_type": "markdown",
   "metadata": {},
   "source": [
    "# Introduction to Data Science – Homework 2\n",
    "*COMP 5360 / MATH 4100, University of Utah, http://datasciencecourse.net/*\n",
    "\n",
    "Due: Friday, January 28, 11:59pm.\n",
    "\n",
    "This homework is designed to reinforce the skills we covered in the last week including various descriptive statistics. Make sure to go through the lectures again in case you have any trouble.\n",
    "\n",
    "**Note: Please provide comments describing what your code was doing at each stage**.\n",
    "\n",
    "**Note: Please fill the cell that says `Your Interpretation` or `Your description` in the below code**."
   ]
  },
  {
   "cell_type": "markdown",
   "metadata": {},
   "source": [
    "## Your Data\n",
    "Fill out the following information: \n",
    "\n",
    "*First Name:* Jack   \n",
    "*Last Name:* Perry   \n",
    "*E-mail:* jackperrypotus@gmail.com   \n",
    "*UID:* u1165142"
   ]
  },
  {
   "cell_type": "markdown",
   "metadata": {},
   "source": [
    "## Part 1: Vector data\n",
    "\n",
    "We first will work with a vector of monthly average temperatures for Snowbird, UT, which we downloaded from [NOAA](https://www.ncdc.noaa.gov/). The data is included in this repository in the file `snowbird.csv`.\n",
    "\n",
    "The data is stored in the CSV format, which is a simple textfile with 'Comma Separated Values'.\n",
    "To load the data, we use the read_csv function from the pandas library. The following code reads the file and stores it in a vector:"
   ]
  },
  {
   "cell_type": "code",
   "execution_count": 46,
   "metadata": {},
   "outputs": [
    {
     "name": "stdout",
     "output_type": "stream",
     "text": [
      "       DATE  PRCP  TAVG\n",
      "0   2010-01  7.39  27.5\n",
      "1   2010-02  2.99  23.8\n",
      "2   2010-03  5.88  29.0\n",
      "3   2010-04  9.69  33.0\n",
      "4   2010-05  6.30  37.2\n",
      "..      ...   ...   ...\n",
      "75  2016-04  7.19  38.0\n",
      "76  2016-05  5.40  42.8\n",
      "77  2016-06  1.20  59.2\n",
      "78  2016-07  0.00  62.9\n",
      "79  2016-08  1.89  60.4\n",
      "\n",
      "[80 rows x 3 columns]\n",
      "[27.5, 23.8, 29.0, 33.0, 37.2, 51.5, 61.7, 58.0, 54.1, 42.4, 27.2, 27.7, 23.7, 22.0, 28.5, 30.4, 38.6, 50.1, 60.4, 62.2, 53.8, 40.7, 28.9, 26.0, 27.4, 23.4, 34.1, 38.4, 44.8, 56.3, 62.3, 62.8, 53.8, 41.0, 35.3, 22.5, 23.7, 21.8, 31.2, 32.3, 44.0, 56.6, 62.9, 60.9, 50.4, 37.7, 33.9, 22.6, 27.2, 26.0, 31.1, 34.9, 45.6, 52.4, 63.5, 56.0, 53.8, 44.8, 30.8, 27.1, 31.5, 31.4, 36.6, 36.0, 42.6, 59.6, 58.4, 59.9, 55.2, 45.2, 27.6, 22.8, 25.1, 30.4, 31.7, 38.0, 42.8, 59.2, 62.9, 60.4]\n",
      "[7.39, 2.99, 5.88, 9.69, 6.3, 2.2, 1.0, 3.09, 1.09, 7.8, 9.7, 12.89, 3.4, 7.2, 8.09, 13.79, 9.99, 2.2, 0.6, 2.3, 2.29, 5.2, 4.69, 1.9, 6.6, 5.6, 5.4, 5.69, 2.6, 0.0, 2.09, 0.59, 2.2, 3.2, 6.19, 7.7, 4.4, 2.8, 3.3, 5.3, 3.8, 0.0, 4.29, 2.2, 4.39, 4.7, 2.0, 4.9, 4.1, 7.1, 6.5, 5.0, 2.9, 1.2, 1.0, 5.0, 4.8, 1.5, 6.09, 7.8, 2.59, 2.3, 2.59, 4.09, 7.09, 1.0, 1.8, 3.1, 4.0, 3.59, 3.9, 6.7, 8.29, 3.19, 5.59, 7.19, 5.4, 1.2, 0.0, 1.89]\n"
     ]
    }
   ],
   "source": [
    "# import the csv library\n",
    "import csv\n",
    "# import the math library we'll use later\n",
    "import math\n",
    "# import the pandas library\n",
    "import pandas as pd\n",
    "\n",
    "# read in and print the data\n",
    "data = pd.read_csv(\"snowbird.csv\")\n",
    "print(data)\n",
    "\n",
    "# define vectors of interest\n",
    "temperature_vector = data[\"TAVG\"].tolist()\n",
    "precipitation_vector = data[\"PRCP\"].tolist()\n",
    "        \n",
    "# print the vector to see if it worked\n",
    "print (temperature_vector)\n",
    "print (precipitation_vector)"
   ]
  },
  {
   "cell_type": "markdown",
   "metadata": {},
   "source": [
    "We'll next use descriptive statistics to analyze the data in `temperature_vector`.\n",
    "\n",
    "In this problem, we'll do calculations that are also available in NumPy. For the purpose of this homework, however, **we want you to implement the solutions using standard python functionality and the math library, and then check your results using functions in NumPy** . \n",
    "\n",
    "See the the [NumPy library](http://docs.scipy.org/doc/numpy-1.11.0/reference/routines.statistics.html) documentation and include the checks as a separate code cell. "
   ]
  },
  {
   "cell_type": "markdown",
   "metadata": {},
   "source": [
    "### Task 1.1: Calculate the Sum of a Vector\n",
    "\n",
    "Write a function that calculates and returns the sum of a vector that you pass into it. \n",
    "\n",
    "Pass the temperature and precipitaton vector into this function and print the result."
   ]
  },
  {
   "cell_type": "code",
   "execution_count": 5,
   "metadata": {},
   "outputs": [
    {
     "name": "stdout",
     "output_type": "stream",
     "text": [
      "3269.0000000000005\n",
      "350.0999999999998\n"
     ]
    }
   ],
   "source": [
    "#Define a function that takes in a vector\n",
    "def sum_vector(a):\n",
    "    #Return the sum for the values in each row of the vectors\n",
    "    return sum(row for row in a)\n",
    "\n",
    "#Print the results of passing the vectors into the functions\n",
    "print(sum_vector(temperature_vector))\n",
    "print(sum_vector(precipitation_vector))"
   ]
  },
  {
   "cell_type": "code",
   "execution_count": 16,
   "metadata": {},
   "outputs": [
    {
     "name": "stdout",
     "output_type": "stream",
     "text": [
      "3269.0\n",
      "350.1\n"
     ]
    }
   ],
   "source": [
    "#Check the results by importing numpy and using the np.sum() function\n",
    "import numpy as np\n",
    "print(np.sum(temperature_vector))\n",
    "print(np.sum(precipitation_vector))"
   ]
  },
  {
   "cell_type": "markdown",
   "metadata": {},
   "source": [
    "### Task 1.2: Calculate the Mean of a Vector\n",
    "\n",
    "Write a function that calculates and returns the [arithmetic mean](https://en.wikipedia.org/wiki/Arithmetic_mean) of a vector that you pass into it. Use your above defined sum function to calculate sum of all the elements of a vector.\n",
    "\n",
    "Pass the temperature and precipitaton vector into this function and print the result. Provide a written interpretation of your results (e.g., \"The mean temperature for Snowbird is XXX degrees Fahrenheit. The mean precipitation is XXX inches.\")"
   ]
  },
  {
   "cell_type": "code",
   "execution_count": 66,
   "metadata": {},
   "outputs": [
    {
     "name": "stdout",
     "output_type": "stream",
     "text": [
      "40.862500000000004\n",
      "4.376249999999997\n"
     ]
    }
   ],
   "source": [
    "# your code goes here\n",
    "def arithmetic_mean(d):\n",
    "    return sum(d) / len(d)\n",
    "    \n",
    "print(arithmetic_mean(temperature_vector))\n",
    "print(arithmetic_mean(precipitation_vector))"
   ]
  },
  {
   "cell_type": "code",
   "execution_count": 7,
   "metadata": {},
   "outputs": [
    {
     "name": "stdout",
     "output_type": "stream",
     "text": [
      "40.8625\n",
      "4.376250000000001\n"
     ]
    }
   ],
   "source": [
    "# check results using Numpy\n",
    "import numpy as np\n",
    "print(np.mean(temperature_vector))\n",
    "print(np.mean(precipitation_vector))"
   ]
  },
  {
   "cell_type": "markdown",
   "metadata": {},
   "source": [
    "**Your Interpretation:** There were very small differences between the numpy calculation and the direct calculation of the mean. The difference only happened at a very small decimal level, but is likely due to the more intricate computation that is required by the computer to perform such an operation. "
   ]
  },
  {
   "cell_type": "markdown",
   "metadata": {},
   "source": [
    "### Task 1.3: Calculate the Median of a Vector\n",
    "Write a function that calculates and returns the [median](https://en.wikipedia.org/wiki/Median) of a vector. Pass the temperature vector into this function and print the result. Make sure that your function works for both vectors with an even and odd number of elements. In the case of an even number of elements, use the mean of the two middle values. Provide a written interpretation of your results.\n",
    "\n",
    "Hint: the [`sorted()`](https://docs.python.org/3/library/functions.html#sorted) function might be helpful for this."
   ]
  },
  {
   "cell_type": "code",
   "execution_count": 15,
   "metadata": {},
   "outputs": [
    {
     "name": "stdout",
     "output_type": "stream",
     "text": [
      "37.85\n",
      "4.045\n"
     ]
    }
   ],
   "source": [
    "#Define the function\n",
    "def median(numbers):\n",
    "    #Sort the numbers in ascending order to calculate the median value\n",
    "    numbers.sort()\n",
    "    #Check if the amount of numbers is even, and if so, find the average of those middle numbers\n",
    "    if len(numbers) % 2 == 0:\n",
    "        median = (numbers[int(len(numbers)/2)] + numbers[int(len(numbers)/2) - 1])/2\n",
    "    #Else, print just the middle number\n",
    "    else:\n",
    "        median = numbers[int(len(numbers)/2)]\n",
    "    #Return the median value\n",
    "    return median\n",
    "\n",
    "#Print the two vectors into the function\n",
    "print(median(temperature_vector))\n",
    "print(median(precipitation_vector))"
   ]
  },
  {
   "cell_type": "code",
   "execution_count": 9,
   "metadata": {},
   "outputs": [
    {
     "name": "stdout",
     "output_type": "stream",
     "text": [
      "37.85\n",
      "4.045\n"
     ]
    }
   ],
   "source": [
    "# check results using Numpy\n",
    "print(np.median(temperature_vector))\n",
    "print(np.median(precipitation_vector))"
   ]
  },
  {
   "cell_type": "markdown",
   "metadata": {},
   "source": [
    "**Your Interpretation:** The median is relatively easy to compute, as it is just the middle value in an ordered list. There were no differences in the values between numpy and the direct method of calcuating the median. This is to be expected as no really large mathematical calculations were taking place."
   ]
  },
  {
   "cell_type": "markdown",
   "metadata": {},
   "source": [
    "### Task 1.4: Calculate the Variance of a Vector\n",
    "\n",
    "Write a function that calculates and returns the [variance](https://en.wikipedia.org/wiki/Variance) of a vector. Pass the temperature and precipitation vectors into this function and print the result. Provide a written interpretation of your results. Is the variance high? Why, Why not? \n",
    "\n",
    "The variance is the average of the squared deviations from the mean, i.e.,\n",
    "\n",
    "$$ Var(X) = {\\sigma}^{2} = \\frac{1}{N} \\sum_{i=1}^{N} {{(x_i - \\mu)}^2} $$\n",
    "\n",
    "where $\\mu$ is the mean of the vector. Hint: use your mean function to calculate it."
   ]
  },
  {
   "cell_type": "code",
   "execution_count": 74,
   "metadata": {},
   "outputs": [
    {
     "name": "stdout",
     "output_type": "stream",
     "text": [
      "183.65334374999995\n",
      "7.9548509375000025\n"
     ]
    }
   ],
   "source": [
    "#Define the function\n",
    "def variance_vector(vector):\n",
    "    #Find first the mean of the vector to use as mu\n",
    "    mean = sum(vector) / len(vector)\n",
    "    #Set variance to 0 to be added to\n",
    "    variance = 0\n",
    "    #Go through values in the vector\n",
    "    for number in vector:\n",
    "        #For each number in the vector, run it through the variance operation\n",
    "        variance += (number - mean) ** 2\n",
    "    #Divide the sum by 1/N like is mentioned in the equation given\n",
    "    variance = variance / len(vector)\n",
    "    return variance\n",
    "\n",
    "#Print both of the vectors to see the results\n",
    "print(calculate_variance(temperature_vector))\n",
    "print(calculate_variance(precipitation_vector))"
   ]
  },
  {
   "cell_type": "code",
   "execution_count": 77,
   "metadata": {},
   "outputs": [
    {
     "name": "stdout",
     "output_type": "stream",
     "text": [
      "183.65334374999998\n",
      "7.9548509375\n"
     ]
    }
   ],
   "source": [
    "# check results using Numpy\n",
    "print(np.var(temperature_vector))\n",
    "print(np.var(precipitation_vector))"
   ]
  },
  {
   "cell_type": "markdown",
   "metadata": {},
   "source": [
    "**Your Interpretation:** Both methods (direct and numpy) produced approximatley the same results, with very minor decimal differences. This can be expected in an equation like that of variance. This is used when determining how distributed a random variable is. "
   ]
  },
  {
   "cell_type": "markdown",
   "metadata": {},
   "source": [
    "### Task 1.5: Histogram\n",
    "\n",
    "Write a function that takes a vector and an integer `b` and calculates a [histogram](https://en.wikipedia.org/wiki/Histogram) with `b` bins. The function should return an array containing two arrays. The first should be the counts for each bin, the second should contain the borders of the bins.\n",
    "\n",
    "For `b=6` for the temperature vector, your output should look like this: \n",
    "\n",
    "`[[20, 16, 11, 6, 11, 16], [21.8, 28.75, 35.7, 42.650000000000006, 49.6, 56.55, 63.5]]`\n",
    "\n",
    "Here, the first array gives the size of these bins, the second defines the bands that are equally spaced between minimum and maximum value. That is, the first band from 21.8-28.75 has 20 entries, the second, from 28.75-35.7 has 16 entries, etc. \n",
    "\n",
    "\n",
    "Calculate the histogram for precipitation and temperature when b=5. Once you have the calculated bins and values, plot the histogram for precipitaion and temperature using `hist` function in `matplotlib.pyplot` library. Provide a written interpretation of your results. Comment on the shape of each histogram; is it unimodal or bimodal? Is the distribution skewed (if so, in which direction)?"
   ]
  },
  {
   "cell_type": "code",
   "execution_count": 30,
   "metadata": {},
   "outputs": [
    {
     "data": {
      "text/plain": [
       "(array([20., 16., 11.,  6., 11., 16.]),\n",
       " array([21.8 , 28.75, 35.7 , 42.65, 49.6 , 56.55, 63.5 ]))"
      ]
     },
     "execution_count": 30,
     "metadata": {},
     "output_type": "execute_result"
    }
   ],
   "source": [
    "#Define the functionfor a histogram that takes in a vector and a number of bins\n",
    "def histogram(vector, b):\n",
    "    # Determine the minimum and maximum values in the vector\n",
    "    min_value = min(vector)\n",
    "    max_value = max(vector) \n",
    "#Make sure that the number of bins is evenly spaced amongst the values in the vector\n",
    "    bin_size = (max_value - min_value) / b\n",
    "    bin_borders = np.linspace(min_value, max_value, b + 1)\n",
    "#Count the number of items in each of the bins\n",
    "    bin_counts = np.zeros(b)\n",
    "#Check all of the values in the vector\n",
    "    for value in vector:\n",
    "        #\n",
    "        bin_index = int((value - min_value) / bin_size)\n",
    "        if bin_index == b:\n",
    "            bin_index -= 1\n",
    "        bin_counts[bin_index] += 1 \n",
    "    return bin_counts, bin_borders\n",
    "\n",
    "#Print the vector with 6 bins in order to see if the result is correct\n",
    "histogram(temperature_vector,6)"
   ]
  },
  {
   "cell_type": "code",
   "execution_count": 59,
   "metadata": {},
   "outputs": [
    {
     "data": {
      "text/plain": [
       "(array([20, 16, 11,  6, 11, 16]),\n",
       " array([21.8 , 28.75, 35.7 , 42.65, 49.6 , 56.55, 63.5 ]))"
      ]
     },
     "execution_count": 59,
     "metadata": {},
     "output_type": "execute_result"
    }
   ],
   "source": [
    "# check results using Numpy\n",
    "import numpy as np\n",
    "from matplotlib import pyplot as plt\n",
    "\n",
    "def calculate_histogram(vector, b):\n",
    "    #Calculate the min and max values\n",
    "    min_value = np.min(vector)\n",
    "    max_value = np.max(vector)\n",
    "    #Make an array from the min and max values with the bin numbers\n",
    "    bin_borders = np.linspace(min_value, max_value, b+1)\n",
    "    #Use numpy to print the histogram with the correct bin borders\n",
    "    bin_counts, _ = np.histogram(vector, bin_borders)\n",
    "    return bin_counts, bin_borders\n",
    "\n",
    "#Run the function with the temperature vector and 6 bins to see if the result holds\n",
    "calculate_histogram(temperature_vector,6)"
   ]
  },
  {
   "cell_type": "markdown",
   "metadata": {},
   "source": [
    "**Your interpretation:** The arrays from both of the functions are the same, which is to be expected. This demonstrates well the way that histr"
   ]
  },
  {
   "cell_type": "markdown",
   "metadata": {},
   "source": [
    "## Part 2: Working with Matrices"
   ]
  },
  {
   "cell_type": "markdown",
   "metadata": {},
   "source": [
    "For the second part of the homework, we are going to work with matrices. The [dataset we will use](https://www.wunderground.com/history/airport/KSLC/2015/1/1/CustomHistory.html?dayend=31&monthend=12&yearend=2015&req_city=&req_state=&req_statename=&reqdb.zip=&reqdb.magic=&reqdb.wmo=) contains different properties of the weather in Salt Lake City for 2015 (temperature, humidity, sea level, ...). It is stored in the file [`SLC_2015.csv`](SLC_2015.csv) in this repository."
   ]
  },
  {
   "cell_type": "markdown",
   "metadata": {},
   "source": [
    "We first read the data from the file and store it in a nested python array (`weather_matrix`). A nested python array is an array, where each element is an array itself. Here is a simple example: "
   ]
  },
  {
   "cell_type": "code",
   "execution_count": 39,
   "metadata": {},
   "outputs": [
    {
     "data": {
      "text/plain": [
       "[[1, 2, 3], ['a', 'b', 'c']]"
      ]
     },
     "execution_count": 39,
     "metadata": {},
     "output_type": "execute_result"
    }
   ],
   "source": [
    "arr1 = [1,2,3]\n",
    "arr2 = ['a', 'b', 'c']\n",
    "\n",
    "nestedArr = [arr1, arr2]\n",
    "nestedArr"
   ]
  },
  {
   "cell_type": "markdown",
   "metadata": {},
   "source": [
    "We provide you with the import code, which writes the data into the nested list `temperature_matrix`. The list contains one list for each month, which, in turn, contains the mean temperature of every day of that month. "
   ]
  },
  {
   "cell_type": "code",
   "execution_count": 47,
   "metadata": {},
   "outputs": [
    {
     "name": "stdout",
     "output_type": "stream",
     "text": [
      "[[15, 19, 26, 28, 37, 38, 38, 36, 35, 31, 39, 36, 35, 30, 31, 31, 37, 44, 40, 35, 31, 31, 31, 33, 42, 41, 44, 42, 36, 40, 39], [39, 49, 50, 50, 53, 57, 60, 53, 55, 45, 43, 47, 46, 48, 43, 40, 38, 44, 47, 44, 39, 33, 31, 35, 44, 35, 37, 36], [40, 37, 34, 33, 39, 43, 45, 45, 46, 50, 54, 50, 51, 56, 62, 63, 61, 53, 47, 53, 57, 54, 52, 47, 42, 48, 56, 62, 53, 57, 63], [46, 44, 44, 54, 60, 50, 52, 46, 49, 53, 58, 50, 57, 56, 33, 44, 50, 54, 56, 56, 60, 61, 61, 59, 51, 46, 50, 57, 65, 63], [63, 71, 68, 67, 62, 59, 58, 57, 49, 53, 59, 68, 65, 65, 53, 48, 56, 58, 55, 59, 58, 58, 55, 57, 62, 59, 61, 61, 64, 71, 76], [80, 68, 69, 68, 69, 70, 66, 73, 77, 78, 72, 74, 75, 76, 81, 77, 78, 83, 83, 78, 81, 78, 78, 83, 82, 84, 87, 88, 91, 89], [87, 87, 87, 89, 79, 79, 76, 75, 73, 72, 77, 79, 81, 77, 80, 80, 79, 74, 74, 73, 76, 77, 75, 78, 78, 84, 77, 66, 70, 76, 79], [80, 79, 69, 76, 82, 74, 76, 69, 72, 79, 83, 81, 83, 88, 83, 79, 77, 72, 74, 76, 81, 74, 76, 84, 85, 78, 77, 80, 85, 82, 75], [82, 83, 82, 80, 75, 60, 65, 66, 71, 73, 74, 76, 76, 74, 65, 57, 59, 56, 60, 65, 69, 71, 73, 72, 77, 79, 79, 74, 73, 77], [78, 64, 61, 62, 64, 65, 62, 65, 64, 69, 70, 64, 65, 67, 66, 66, 69, 66, 62, 56, 57, 55, 54, 57, 58, 58, 51, 49, 50, 45, 57], [61, 61, 53, 41, 39, 40, 40, 44, 51, 36, 40, 42, 41, 43, 48, 39, 32, 41, 42, 39, 34, 34, 35, 40, 45, 32, 28, 25, 25, 28], [29, 29, 32, 35, 36, 38, 37, 45, 51, 47, 37, 35, 36, 31, 26, 30, 23, 35, 41, 36, 38, 38, 31, 30, 23, 19, 17, 19, 21, 21, 12]]\n",
      "Mean temp on August 23: 76\n"
     ]
    }
   ],
   "source": [
    "# initialize the 12 arrays for the months\n",
    "temperature_matrix = [[] for i in range(12)]\n",
    "\n",
    "# open the file and append the values of the last column to the array\n",
    "with open('SLC_2015.csv') as csvfile:\n",
    "    filereader = csv.reader(csvfile, delimiter=',', quotechar='|')\n",
    "    # get rid of the header\n",
    "    next(filereader)\n",
    "    for row in filereader:\n",
    "        month = int(row[0].split('/')[0])\n",
    "        mean_temp = int(row[2])\n",
    "        temperature_matrix[month-1].append(mean_temp)\n",
    "\n",
    "print(temperature_matrix)\n",
    "\n",
    "# the mean tempertarure on August 23. Note the index offset:\n",
    "print(\"Mean temp on August 23: \" + str(temperature_matrix[7][22]))"
   ]
  },
  {
   "cell_type": "markdown",
   "metadata": {},
   "source": [
    "We will next compute the same descriptive statistics as in Part 1 using the nested array `temperature_matrix`. \n",
    "\n",
    "In this problem, **we again want you to implement the solutions using standard python functionality and the math library**. We recommend you check your results using NumPy.\n",
    "\n",
    "**Note:** Since the lists in the matrix are of varying lengths (28 to 31 days) many of the standard NumPy functions won't work directly."
   ]
  },
  {
   "cell_type": "markdown",
   "metadata": {},
   "source": [
    "### Task 2.1: Calculates the Avg. Temperature from April to July(4 months)\n",
    "\n",
    "Write a function that calculates the mean of a matrix from a particular starting month to the ending month. For this version calculate the mean over all elements in the matrix as if it was one large vector. \n",
    "Pass in the matrix with the weather data,starting and ending month and return the result. Provide a written interpretation of your results.\n",
    "Can you use your function from Part 1 and get a valid result?"
   ]
  },
  {
   "cell_type": "code",
   "execution_count": 163,
   "metadata": {},
   "outputs": [
    {
     "data": {
      "text/plain": [
       "67.29508196721312"
      ]
     },
     "execution_count": 163,
     "metadata": {},
     "output_type": "execute_result"
    }
   ],
   "source": [
    "#Define the function to take in a stop and start date\n",
    "def calculate_mean_matrix(matrix, start_month, end_month):\n",
    "    #Make a list to store the mean values from each month\n",
    "    selected_values = []\n",
    "    #Parse through all of the values within each month window\n",
    "    for i in range(start_month-1, end_month):\n",
    "        #Select the values within the correct matrix range based on index\n",
    "        for j in range(len(matrix[i])):\n",
    "            selected_values.append(matrix[i][j])\n",
    "    #Calculate the mean of the selected values of the correct window selected\n",
    "    mean = sum(selected_values) / len(selected_values)\n",
    "    return mean\n",
    "\n",
    "#Run the function with the specification to check the values\n",
    "calculate_mean_matrix(temperature_matrix,4,7)"
   ]
  },
  {
   "cell_type": "code",
   "execution_count": 154,
   "metadata": {},
   "outputs": [
    {
     "data": {
      "text/plain": [
       "67.29508196721312"
      ]
     },
     "execution_count": 154,
     "metadata": {},
     "output_type": "execute_result"
    }
   ],
   "source": [
    "# check results with numpy\n",
    "import numpy as np\n",
    "\n",
    "#Create function to run numpy \n",
    "def mean_of_matrix(matrix, start_month, end_month):\n",
    "    #Create a vector using the matrix elements with the correct month dates\n",
    "    vector = np.array([elem for row in matrix[start_month-1:end_month] for elem in row])\n",
    "    #Calculate the mean of the new vector\n",
    "    mean = np.mean(vector)\n",
    "    return mean\n",
    "\n",
    "#Run the function to check aqainst the other method\n",
    "mean_of_matrix(temperature_matrix,4,7)"
   ]
  },
  {
   "cell_type": "markdown",
   "metadata": {},
   "source": [
    "**Your Interpretation:** Both methods produced almost identical values, which is good. It was expected to have similar numbers, and this is a useful way of checking for means within a certain frame. "
   ]
  },
  {
   "cell_type": "markdown",
   "metadata": {},
   "source": [
    "### Task 2.2:  Calculate the mean of each vector of a matrix\n",
    "\n",
    "Write a function that calculates the mean temperature of each month and returns an array with the means for each row. Provide a written interpretation of your results. Can you use the function you implemented in Part 1 here efficiently? If so, use it."
   ]
  },
  {
   "cell_type": "code",
   "execution_count": 169,
   "metadata": {},
   "outputs": [
    {
     "data": {
      "text/plain": [
       "[34.54838709677419,\n",
       " 44.32142857142857,\n",
       " 50.096774193548384,\n",
       " 52.833333333333336,\n",
       " 60.483870967741936,\n",
       " 77.86666666666666,\n",
       " 77.87096774193549,\n",
       " 78.35483870967742,\n",
       " 71.43333333333334,\n",
       " 61.16129032258065,\n",
       " 39.96666666666667,\n",
       " 31.548387096774192]"
      ]
     },
     "execution_count": 169,
     "metadata": {},
     "output_type": "execute_result"
    }
   ],
   "source": [
    "def mean_matrix(matrix):\n",
    "    #Create an empty list to store the means\n",
    "    means = []\n",
    "    #Iterate through rows in the matrix\n",
    "    for row in matrix:\n",
    "        #Add the mean of each row onto the empty list of means\n",
    "        means.append(sum(row)/len(row))\n",
    "    return means\n",
    "\n",
    "#Print the function with the temperature matrix\n",
    "mean_matrix(temperature_matrix)"
   ]
  },
  {
   "cell_type": "code",
   "execution_count": 112,
   "metadata": {},
   "outputs": [
    {
     "data": {
      "text/plain": [
       "[34.54838709677419,\n",
       " 44.32142857142857,\n",
       " 50.096774193548384,\n",
       " 52.833333333333336,\n",
       " 60.483870967741936,\n",
       " 77.86666666666666,\n",
       " 77.87096774193549,\n",
       " 78.35483870967742,\n",
       " 71.43333333333334,\n",
       " 61.16129032258065,\n",
       " 39.96666666666667,\n",
       " 31.548387096774192]"
      ]
     },
     "execution_count": 112,
     "metadata": {},
     "output_type": "execute_result"
    }
   ],
   "source": [
    "#Import numpy\n",
    "import numpy as np\n",
    "\n",
    "#Create the function that takes in the matrix\n",
    "def row_means(matrix):\n",
    "    #Make an empty list to store the correct values\n",
    "    means = []\n",
    "    #Go through each row\n",
    "    for row in matrix:\n",
    "        #Calculate the mean of each row\n",
    "        mean = np.mean(row)\n",
    "        #Put the value on the empty list\n",
    "        means.append(mean)\n",
    "    return means\n",
    "\n",
    "#Print the function to return the list of means   \n",
    "row_means(temperature_matrix)"
   ]
  },
  {
   "cell_type": "markdown",
   "metadata": {},
   "source": [
    "**Your Interpretation:** This is useful for information like this that has multiple datasets, and it might be useful to look at their means. The numpy function makes these solutions much more simple. "
   ]
  },
  {
   "cell_type": "markdown",
   "metadata": {},
   "source": [
    "### Task 2.3:  Calculate the median of a whole matrix\n",
    "\n",
    "Write a function that calculates and returns the median of a matrix over all values (independent from which row they are coming) and returns it. Provide a written interpretation of your results. Can you use your function from Part 1 and get a valid result?"
   ]
  },
  {
   "cell_type": "code",
   "execution_count": 170,
   "metadata": {},
   "outputs": [
    {
     "data": {
      "text/plain": [
       "57"
      ]
     },
     "execution_count": 170,
     "metadata": {},
     "output_type": "execute_result"
    }
   ],
   "source": [
    "#Create a function to calculate the median value of a matrix\n",
    "def median_matrix(matrix):\n",
    "    #Create a singular vector with all of the matrix elements\n",
    "    vector = [elem for row in matrix for elem in row]\n",
    "    #Sort the vector into ascending order\n",
    "    vector.sort()\n",
    "    #Find the middle value \n",
    "    middle = len(vector) // 2\n",
    "    #Calculate the medain using previously created code\n",
    "    if len(vector) % 2 == 0:\n",
    "        median = (vector[middle - 1] + vector[middle]) / 2\n",
    "    else:\n",
    "        median = vector[middle]\n",
    "    return median\n",
    "\n",
    "median_matrix(temperature_matrix)"
   ]
  },
  {
   "cell_type": "code",
   "execution_count": 156,
   "metadata": {},
   "outputs": [
    {
     "data": {
      "text/plain": [
       "57.0"
      ]
     },
     "execution_count": 156,
     "metadata": {},
     "output_type": "execute_result"
    }
   ],
   "source": [
    "# check results with numpy\n",
    "import numpy as np\n",
    "\n",
    "def median_of_matrix(matrix):\n",
    "    #create a vector of the matrix elements\n",
    "    vector = np.array([elem for row in matrix for elem in row])\n",
    "    #calculate the overall median of the vector and return it\n",
    "    median = np.median(vector)\n",
    "    return median\n",
    "\n",
    "#Run the function\n",
    "median_of_matrix(temperature_matrix)"
   ]
  },
  {
   "cell_type": "markdown",
   "metadata": {},
   "source": [
    "**Your Interpretation:** We got the results that were expected. Returning the correct median. Very useful information."
   ]
  },
  {
   "cell_type": "markdown",
   "metadata": {},
   "source": [
    "### Task 2.4: Calculate the median of each vector of a matrix\n",
    "\n",
    "Write a function that calculates the median of each sub array (i.e. each row in the temperature_matrix) in the matrix and returns an array of medians (one entry for each row). To do so, use the function you implemented in Part 1. Provide a written interpretation of your results. "
   ]
  },
  {
   "cell_type": "code",
   "execution_count": 96,
   "metadata": {},
   "outputs": [
    {
     "data": {
      "text/plain": [
       "[36.0, 44.0, 51.0, 53.5, 59.0, 78.0, 77.0, 79.0, 73.0, 62.0, 40.0, 32.0]"
      ]
     },
     "execution_count": 96,
     "metadata": {},
     "output_type": "execute_result"
    }
   ],
   "source": [
    "# your code goes here\n",
    "import numpy as np\n",
    "\n",
    "def row_medians(matrix):\n",
    "    #Create an empty list to store median values\n",
    "    medians = []\n",
    "    #Go over each row in the matrix\n",
    "    for row in matrix:\n",
    "        #Calculate the medain value of each row\n",
    "        median = np.median(row)\n",
    "        #Add each of the median values to the new list\n",
    "        medians.append(median)\n",
    "    return medians\n",
    "\n",
    "#Run the function using the temperature matrix to see results\n",
    "row_medians(temperature_matrix)"
   ]
  },
  {
   "cell_type": "markdown",
   "metadata": {},
   "source": [
    "**Your Interpretation:** These functions are made to be relatively simple with the numpy functions. It is quite useful to see the median of each row in the matrix, and we can se that in the month of August the median temperature was the highest. "
   ]
  },
  {
   "cell_type": "markdown",
   "metadata": {},
   "source": [
    "### Task 2.5: Calculate the standard deviation of a whole matrix\n",
    "\n",
    "Write a function that calculates the [standard deviation](https://en.wikipedia.org/wiki/Standard_deviation) of a matrix over all values in the matrix (ignoring from which row they were coming) and returns it. Can you use your function calculating variance from Part 1 and get a valid result? Provide a written interpretation of your results. "
   ]
  },
  {
   "cell_type": "code",
   "execution_count": 175,
   "metadata": {},
   "outputs": [
    {
     "data": {
      "text/plain": [
       "17.908994103709954"
      ]
     },
     "execution_count": 175,
     "metadata": {},
     "output_type": "execute_result"
    }
   ],
   "source": [
    "# your code goes here\n",
    "import math\n",
    "\n",
    "def std_dev(matrix):\n",
    "#Use code from before in order to calculate the mean\n",
    "    mean = 0\n",
    "    total_elements = 0\n",
    "    for sublist in matrix:\n",
    "        for item in sublist:\n",
    "            mean += item\n",
    "            total_elements +=1\n",
    "    mean = mean / total_elements\n",
    "#Use code from before to determine the variance\n",
    "    variance = 0\n",
    "    for sublist in matrix:\n",
    "        for item in sublist:\n",
    "            variance += (item - mean)**2\n",
    "    variance = variance/ total_elements\n",
    "#Calculate standard deviation by taking the sqrt of variance\n",
    "    std_dev = math.sqrt(variance)\n",
    "    #Return the new standard deviation\n",
    "    return std_dev\n",
    "\n",
    "#Print the function with the temperature matrix\n",
    "std_deviation_of_matrix(temperature_matrix)"
   ]
  },
  {
   "cell_type": "code",
   "execution_count": 179,
   "metadata": {},
   "outputs": [
    {
     "name": "stdout",
     "output_type": "stream",
     "text": [
      "17.908994103709954\n"
     ]
    }
   ],
   "source": [
    "# check results with numpy\n",
    "def std_deviation(matrix):\n",
    "    #Convert the matrix into a flat matrix\n",
    "    flat_matrix = np.concatenate(matrix)\n",
    "    #Solve for the standard deviation using numpy functions\n",
    "    std_dev = np.std(flat_matrix)\n",
    "    #Return the newly calculated standard deviation\n",
    "    return std_dev\n",
    "\n",
    "#Print the function with the temperature matrix\n",
    "print(std_deviation(temperature_matrix))\n"
   ]
  },
  {
   "cell_type": "markdown",
   "metadata": {},
   "source": [
    "**Your Interpretation:** The two functions produced identical results. seeing these standard deviations can be useful in understanding the spread of all the data. "
   ]
  },
  {
   "cell_type": "markdown",
   "metadata": {},
   "source": [
    "### Task 2.6: Calculate the standard deviation of each vector of a matrix\n",
    "\n",
    "Write a function that calculates the [standard deviation](https://en.wikipedia.org/wiki/Standard_deviation) of each array in the matrix and returns an array of standard deviations (one standard deviation for each row). To do so, use the function calculating variance you implemented in Part 1. \n",
    "Pass in the matrix with the temperature data and return the result. Provide a written interpretation of your results - is the standard deviation consistent across the seasons? "
   ]
  },
  {
   "cell_type": "code",
   "execution_count": 181,
   "metadata": {},
   "outputs": [
    {
     "data": {
      "text/plain": [
       "[6.5047809200539595,\n",
       " 7.343868051591319,\n",
       " 8.263229231729458,\n",
       " 6.923791511078947,\n",
       " 6.272679973334109,\n",
       " 6.535713852025313,\n",
       " 5.0208721481423595,\n",
       " 4.666617114845193,\n",
       " 7.552850823070421,\n",
       " 6.937959048194395,\n",
       " 8.715822138820615,\n",
       " 8.96890222245524]"
      ]
     },
     "execution_count": 181,
     "metadata": {},
     "output_type": "execute_result"
    }
   ],
   "source": [
    "#Use numpy\n",
    "import numpy as np\n",
    "\n",
    "#Define the function\n",
    "def std_deviation_of_rows(matrix):\n",
    "    #Create empty list to store the standard deviations\n",
    "    std_devs = []\n",
    "    #Add to the empty list all of the standard deviations\n",
    "    for row in matrix:\n",
    "        std_devs.append(np.std(row))\n",
    "    return std_devs\n",
    "\n",
    "#Print the function using the temperature matrix\n",
    "std_deviation_of_rows(temperature_matrix)"
   ]
  },
  {
   "cell_type": "markdown",
   "metadata": {},
   "source": [
    "**Your Interpretation:** Using numpy for a question like this is much more simple. It is useful to see a function like this in action, seeing the standard deviations in a new list."
   ]
  },
  {
   "cell_type": "markdown",
   "metadata": {},
   "source": [
    "## Part 3: Poisson distribution \n",
    "\n",
    "In class, we looked at [Bernoulli](https://en.wikipedia.org/wiki/Bernoulli_distribution) and [binomial](https://en.wikipedia.org/wiki/Binomial_distribution) discrete random variables. Another example of a discrete random variable is a *Poisson random variable*. \n",
    "\n",
    "Read the [wikipedia article on the Poisson distribution](https://en.wikipedia.org/wiki/Poisson_distribution)\n",
    "\n",
    "### Part 3.1. Descriptive statistics\n",
    "\n",
    "Describe what a Poisson random variable is. What is the parameter, $\\lambda$? What is the min, max, mean, and variance of a Poisson random variable? "
   ]
  },
  {
   "cell_type": "markdown",
   "metadata": {},
   "source": [
    "**Your description:** _A posisson random variable is discrete and describes the number of events that happens within a given time interval. The parameter ($\\lambda$) represents the rate at which the events take place. Because you cannot have a negative number of events, the minimum value of a poisson random variable is 0, and with no limit, its maximum of infinity. The mean and variance of the poisson random variable are both equal to the rate ($\\lambda$)_"
   ]
  },
  {
   "cell_type": "markdown",
   "metadata": {},
   "source": [
    "### Part 3.2. Example \n",
    "\n",
    "Give an example of an application that is described by a Poisson random variable."
   ]
  },
  {
   "cell_type": "markdown",
   "metadata": {},
   "source": [
    "**Your description:** A poisson random variable can be represented by any event that happens in a given time interval. One can use the number of blue jay calls in the span of 2 hours, where $\\lambda$ is the number of calls, which represents the mean and variance of the variable as well, and the 2 hours is the given time interval."
   ]
  },
  {
   "cell_type": "markdown",
   "metadata": {},
   "source": [
    "### Part 3.3. Probability mass function\n",
    "\n",
    "For the parameter $\\lambda = 4$, plot the probability mass function (you may use scipy). "
   ]
  },
  {
   "cell_type": "code",
   "execution_count": 172,
   "metadata": {},
   "outputs": [
    {
     "data": {
      "text/plain": [
       "<matplotlib.collections.LineCollection at 0x7fa93b145970>"
      ]
     },
     "execution_count": 172,
     "metadata": {},
     "output_type": "execute_result"
    },
    {
     "data": {
      "image/png": "[encoded data removed]",
      "text/plain": [
       "<Figure size 640x480 with 1 Axes>"
      ]
     },
     "metadata": {},
     "output_type": "display_data"
    }
   ],
   "source": [
    "# your code\n",
    "import numpy as np\n",
    "from scipy.stats import poisson\n",
    "import matplotlib.pyplot as plt\n",
    "\n",
    "#Set the correct figure as a pmf to be able to see the plot\n",
    "fig, ax = plt.subplots(1, 1)\n",
    "\n",
    "#Set the parameter equal to 4\n",
    "mu = 4\n",
    "#Create variable x as teh poisson random variable with the .ppf function\n",
    "x = np.arange(poisson.ppf(0.01, mu),\n",
    "              poisson.ppf(0.99, mu))\n",
    "#Plot the lines and plot of the pmf with the correct variables\n",
    "ax.plot(x, poisson.pmf(x, mu), 'bo', ms=8, label='poisson pmf')\n",
    "ax.vlines(x, 0, poisson.pmf(x, mu), colors='b', lw=5, alpha=0.5)"
   ]
  },
  {
   "cell_type": "markdown",
   "metadata": {},
   "source": [
    "### Part 3.4. Poission sampling\n",
    "\n",
    "Write python code that takes 1500 samples from the Poisson distribution with parameter $\\lambda = 4$. Make a histogram of the samples and compute the sample mean and variance. How does the histogram compare to the probability mass function?"
   ]
  },
  {
   "cell_type": "code",
   "execution_count": 160,
   "metadata": {},
   "outputs": [
    {
     "data": {
      "image/png": "[encoded data removed]",
      "text/plain": [
       "<Figure size 640x480 with 1 Axes>"
      ]
     },
     "metadata": {},
     "output_type": "display_data"
    },
    {
     "name": "stdout",
     "output_type": "stream",
     "text": [
      "Sample Mean:  4.006\n",
      "Sample Variance:  4.119297333333333\n"
     ]
    }
   ],
   "source": [
    "#import the numpy and matplotlib libraries\n",
    "import numpy as np\n",
    "import matplotlib.pyplot as plt\n",
    "\n",
    "#set the parameter of the poisson variable equal to 4\n",
    "lambduh = 4\n",
    "\n",
    "#generate 1500 samples from the poisson distribution\n",
    "samples = np.random.poisson(lambduh, 1500)\n",
    "\n",
    "#Use the plt.hist function and other functions to plot the histogram\n",
    "plt.hist(samples, bins=20, edgecolor='black', density=True)\n",
    "plt.xlabel('X')\n",
    "plt.ylabel('Probability')\n",
    "plt.title('Poisson Distribution with lambda = 4')\n",
    "plt.show()\n",
    "\n",
    "#Use the np functions to determine the means and sample variances\n",
    "sample_mean = np.mean(samples)\n",
    "sample_var = np.var(samples)\n",
    "print(\"Sample Mean: \", sample_mean)\n",
    "print(\"Sample Variance: \", sample_var)"
   ]
  },
  {
   "cell_type": "markdown",
   "metadata": {},
   "source": [
    "**Your description:** The distribution looks relatively similar to what was seen in the pmf. This was expected from a poisson random variable. We expected the shapes to be similar. "
   ]
  },
  {
   "cell_type": "markdown",
   "metadata": {},
   "source": [
    "**Useful sources:**\n",
    "    I used some articles to understand the workings of statistical python a little more, including:\n",
    "        [statology](https://www.statology.org/poisson-distribution-python/#:~:text=The%20Poisson%20distribution%20describes%20the,*%20e%E2%80%93%20%CE%BB%20%2F%20k!) and stats info on the [python website](https://docs.python.org/3/library/statistics.html)"
   ]
  }
 ],
 "metadata": {
  "kernelspec": {
   "display_name": "Python 3 (ipykernel)",
   "language": "python",
   "name": "python3"
  },
  "language_info": {
   "codemirror_mode": {
    "name": "ipython",
    "version": 3
   },
   "file_extension": ".py",
   "mimetype": "text/x-python",
   "name": "python",
   "nbconvert_exporter": "python",
   "pygments_lexer": "ipython3",
   "version": "3.9.13"
  }
 },
 "nbformat": 4,
 "nbformat_minor": 4
}
